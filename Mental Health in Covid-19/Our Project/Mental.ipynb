{
 "metadata": {
  "language_info": {
   "codemirror_mode": {
    "name": "ipython",
    "version": 3
   },
   "file_extension": ".py",
   "mimetype": "text/x-python",
   "name": "python",
   "nbconvert_exporter": "python",
   "pygments_lexer": "ipython3",
   "version": "3.8.5-final"
  },
  "orig_nbformat": 2,
  "kernelspec": {
   "name": "python3",
   "display_name": "Python 3",
   "language": "python"
  }
 },
 "nbformat": 4,
 "nbformat_minor": 2,
 "cells": [
  {
   "cell_type": "code",
   "execution_count": null,
   "metadata": {},
   "outputs": [],
   "source": [
    "import pandas as pd \n",
    "import numpy as np \n",
    "import matplotlib.pyplot as plt\n",
    "%matplotlib inline\n",
    "from sklearn.preprocessing import OrdinalEncoder\n",
    "from sklearn.preprocessing import OneHotEncoder\n",
    "import seaborn as sns"
   ]
  },
  {
   "cell_type": "code",
   "execution_count": null,
   "metadata": {},
   "outputs": [],
   "source": [
    "CB91_Blue = '#2CBDFE'\n",
    "CB91_Green = '#47DBCD'\n",
    "CB91_Pink = '#F3A0F2'\n",
    "CB91_Purple = '#9D2EC5'\n",
    "CB91_Violet = '#661D98'\n",
    "CB91_Amber = '#F5B14C'\n",
    "\n",
    "color_list = [CB91_Blue, CB91_Pink, CB91_Green, CB91_Amber,\n",
    "              CB91_Purple, CB91_Violet]\n",
    "plt.rcParams['axes.prop_cycle'] = plt.cycler(color=color_list)"
   ]
  },
  {
   "cell_type": "code",
   "execution_count": null,
   "metadata": {},
   "outputs": [],
   "source": [
    "data=pd.read_csv(\"Final Dataset.csv\")"
   ]
  },
  {
   "cell_type": "code",
   "execution_count": null,
   "metadata": {},
   "outputs": [],
   "source": [
    "valid_participants=0\n",
    "def absolute_num(x):\n",
    "    global valid_participants\n",
    "    return \"{} ({:.1f}%)\".format(round(x*valid_participants/100),x)"
   ]
  },
  {
   "cell_type": "code",
   "execution_count": null,
   "metadata": {},
   "outputs": [],
   "source": [
    "fig = plt.figure(figsize =(10, 7)) \n",
    "\n",
    "valid_participants=len(data[\"What is your gender ?\"])\n",
    "\n",
    "plt.pie(data[\"What is your gender ?\"].value_counts(),labels=[\"Male\",\"Female\"],autopct=absolute_num,startangle=0,pctdistance=0.82,explode=(0.05,0.05))\n",
    "\n",
    "centre_circle = plt.Circle((0,0),0.70,fc='white')\n",
    "fig = plt.gcf()\n",
    "fig.gca().add_artist(centre_circle)\n",
    "\n",
    "plt.title(\"Gender-wise Pie Plot \\n\\nTotal Valid Respondents : \"+str(valid_participants))\n",
    "plt.show()"
   ]
  },
  {
   "cell_type": "code",
   "execution_count": null,
   "metadata": {},
   "outputs": [],
   "source": [
    "fig = plt.figure(figsize =(10, 7)) \n",
    "\n",
    "valid_participants=len(data[\"BMI Category\"])\n",
    "\n",
    "plt.pie(data[\"BMI Category\"].value_counts(),labels=[\"Underweight\",\"Normal\",\"Overweight\",\"Obese\"],autopct=absolute_num,startangle=0,pctdistance=0.82,explode=(0.05,0.05,0.05,0.05))\n",
    "\n",
    "centre_circle = plt.Circle((0,0),0.70,fc='white')\n",
    "fig = plt.gcf()\n",
    "fig.gca().add_artist(centre_circle)\n",
    "\n",
    "plt.title(\"BMI Category Pie Plot \\n\\nTotal Valid Respondents : \"+str(valid_participants))\n",
    "plt.show()"
   ]
  },
  {
   "cell_type": "code",
   "execution_count": null,
   "metadata": {},
   "outputs": [],
   "source": [
    "datam=data[data[\"What is your gender ?\"]==\"Male\"][\"BMI Category\"]\n",
    "\n",
    "fig = plt.figure(figsize =(10, 7)) \n",
    "\n",
    "valid_participants=len(datam)\n",
    "\n",
    "plt.pie(datam.value_counts(),labels=[\"Underweight\",\"Normal\",\"Overweight\",\"Obese\"],autopct=absolute_num,startangle=0,pctdistance=0.82,explode=(0.05,0.05,0.05,0.05))\n",
    "\n",
    "centre_circle = plt.Circle((0,0),0.70,fc='white')\n",
    "fig = plt.gcf()\n",
    "fig.gca().add_artist(centre_circle)\n",
    "\n",
    "plt.title(\"BMI Category in Males Pie Plot \\n\\nTotal Valid Male Respondents : \"+str(valid_participants))\n",
    "plt.show()"
   ]
  },
  {
   "cell_type": "code",
   "execution_count": null,
   "metadata": {},
   "outputs": [],
   "source": [
    "dataf=data[data[\"What is your gender ?\"]==\"Female\"][\"BMI Category\"]\n",
    "\n",
    "fig = plt.figure(figsize =(10, 7)) \n",
    "\n",
    "valid_participants=len(dataf)\n",
    "\n",
    "plt.pie(dataf.value_counts(),labels=[\"Underweight\",\"Normal\",\"Overweight\",\"Obese\"],autopct=absolute_num,startangle=0,pctdistance=0.82,explode=(0.05,0.05,0.05,0.05))\n",
    "\n",
    "centre_circle = plt.Circle((0,0),0.70,fc='white')\n",
    "fig = plt.gcf()\n",
    "fig.gca().add_artist(centre_circle)\n",
    "\n",
    "plt.title(\"BMI Category in Females Pie Plot \\n\\nTotal Valid Female Respondents : \"+str(valid_participants))\n",
    "plt.show()"
   ]
  },
  {
   "cell_type": "code",
   "execution_count": null,
   "metadata": {},
   "outputs": [],
   "source": [
    "fig = plt.figure(figsize =(10, 7)) \n",
    "\n",
    "valid_participants=len(data[\"Depression Severity\"])\n",
    "\n",
    "plt.pie(data[\"Depression Severity\"].value_counts(),labels=[\"None-minimal\",\"Mild\",\"Moderate\",\"Moderately Severe\",\"Severe\"],autopct=absolute_num,startangle=0,pctdistance=0.85,explode=(0.05,0.05,0.05,0.05,0.05))\n",
    "\n",
    "centre_circle = plt.Circle((0,0),0.70,fc='white')\n",
    "fig = plt.gcf()\n",
    "fig.gca().add_artist(centre_circle)\n",
    "\n",
    "plt.title(\"Depression Severity Pie Plot \\n\\nTotal Valid Respondents : \"+str(valid_participants))\n",
    "plt.show()"
   ]
  },
  {
   "cell_type": "code",
   "execution_count": null,
   "metadata": {},
   "outputs": [],
   "source": [
    "datam=data[data[\"What is your gender ?\"]==\"Male\"][\"Depression Severity\"]\n",
    "\n",
    "fig = plt.figure(figsize =(10, 7)) \n",
    "\n",
    "valid_participants=len(datam)\n",
    "\n",
    "plt.pie(datam.value_counts(),labels=[\"None-minimal\",\"Mild\",\"Moderate\",\"Moderately Severe\",\"Severe\"],autopct=absolute_num,startangle=0,pctdistance=0.85,explode=(0.05,0.05,0.05,0.05,0.05))\n",
    "\n",
    "centre_circle = plt.Circle((0,0),0.70,fc='white')\n",
    "fig = plt.gcf()\n",
    "fig.gca().add_artist(centre_circle)\n",
    "\n",
    "plt.title(\"Depression Severity in Males Pie Plot \\n\\nTotal Valid male Respondents : \"+str(valid_participants))\n",
    "plt.show()"
   ]
  },
  {
   "cell_type": "code",
   "execution_count": null,
   "metadata": {},
   "outputs": [],
   "source": [
    "dataf=data[data[\"What is your gender ?\"]==\"Female\"][\"Depression Severity\"]\n",
    "\n",
    "fig = plt.figure(figsize =(10, 7)) \n",
    "\n",
    "valid_participants=len(dataf)\n",
    "\n",
    "plt.pie(dataf.value_counts(),labels=[\"None-minimal\",\"Mild\",\"Moderate\",\"Moderately Severe\",\"Severe\"],autopct=absolute_num,startangle=0,pctdistance=0.85,explode=(0.05,0.05,0.05,0.05,0.05))\n",
    "\n",
    "centre_circle = plt.Circle((0,0),0.70,fc='white')\n",
    "fig = plt.gcf()\n",
    "fig.gca().add_artist(centre_circle)\n",
    "\n",
    "plt.title(\"Depression Severity in Females Pie Plot \\n\\nTotal Valid female Respondents : \"+str(valid_participants))\n",
    "plt.show()"
   ]
  },
  {
   "cell_type": "code",
   "execution_count": null,
   "metadata": {},
   "outputs": [],
   "source": [
    "data[\"PHQ-9 Score\"].describe()"
   ]
  },
  {
   "cell_type": "code",
   "execution_count": null,
   "metadata": {},
   "outputs": [],
   "source": [
    "data[\"PHQ-9 Score\"].value_counts().sort_index()"
   ]
  },
  {
   "cell_type": "code",
   "execution_count": null,
   "metadata": {},
   "outputs": [],
   "source": [
    "fig = plt.figure(figsize =(10, 7)) \n",
    "\n",
    "valid_participants=len(data[\"Anxiety Severity\"])\n",
    "\n",
    "plt.pie(data[\"Anxiety Severity\"].value_counts(),labels=[\"Minimal\",\"Mild\",\"Moderate\",\"Severe\"],autopct=absolute_num,pctdistance=0.85,explode=(0.05,0.05,0.05,0.05))\n",
    "\n",
    "centre_circle = plt.Circle((0,0),0.70,fc='white')\n",
    "fig = plt.gcf()\n",
    "fig.gca().add_artist(centre_circle)\n",
    "\n",
    "plt.title(\"Anxiety Severity Pie Plot \\n\\nTotal Valid Respondents : \"+str(valid_participants))\n",
    "plt.show()"
   ]
  },
  {
   "cell_type": "code",
   "execution_count": null,
   "metadata": {},
   "outputs": [],
   "source": [
    "datam=data[data[\"What is your gender ?\"]==\"Male\"][\"Anxiety Severity\"]\n",
    "\n",
    "fig = plt.figure(figsize =(10, 7)) \n",
    "\n",
    "valid_participants=len(datam)\n",
    "\n",
    "plt.pie(datam.value_counts(),labels=[\"Minimal\",\"Mild\",\"Moderate\",\"Severe\"],autopct=absolute_num,pctdistance=0.85,explode=(0.05,0.05,0.05,0.05))\n",
    "\n",
    "centre_circle = plt.Circle((0,0),0.70,fc='white')\n",
    "fig = plt.gcf()\n",
    "fig.gca().add_artist(centre_circle)\n",
    "\n",
    "plt.title(\"Anxiety Severity in Males Pie Plot \\n\\nTotal Valid Male Respondents : \"+str(valid_participants))\n",
    "plt.show()"
   ]
  },
  {
   "cell_type": "code",
   "execution_count": null,
   "metadata": {},
   "outputs": [],
   "source": [
    "dataf=data[data[\"What is your gender ?\"]==\"Female\"][\"Anxiety Severity\"]\n",
    "\n",
    "fig = plt.figure(figsize =(10, 7)) \n",
    "\n",
    "valid_participants=len(dataf)\n",
    "\n",
    "plt.pie(dataf.value_counts(),labels=[\"Minimal\",\"Mild\",\"Moderate\",\"Severe\"],autopct=absolute_num,pctdistance=0.85,explode=(0.05,0.05,0.05,0.05))\n",
    "\n",
    "centre_circle = plt.Circle((0,0),0.70,fc='white')\n",
    "fig = plt.gcf()\n",
    "fig.gca().add_artist(centre_circle)\n",
    "\n",
    "plt.title(\"Anxiety Severity in Females Pie Plot \\n\\nTotal Valid Female Respondents : \"+str(valid_participants))\n",
    "plt.show()"
   ]
  },
  {
   "cell_type": "code",
   "execution_count": null,
   "metadata": {},
   "outputs": [],
   "source": [
    "data[\"GAD-7 Score\"].describe()"
   ]
  },
  {
   "cell_type": "code",
   "execution_count": null,
   "metadata": {},
   "outputs": [],
   "source": [
    "data[\"GAD-7 Score\"].value_counts().sort_index()"
   ]
  },
  {
   "cell_type": "code",
   "execution_count": null,
   "metadata": {},
   "outputs": [],
   "source": [
    "datafy=data[data[\"Which year BTech student are you ?\"]==\"First Year\"][\"Depression Severity\"]\n",
    "\n",
    "fig = plt.figure(figsize =(10, 7)) \n",
    "\n",
    "valid_participants=len(datafy)\n",
    "\n",
    "plt.pie(datafy.value_counts(),labels=[\"None-minimal\",\"Mild\",\"Moderate\",\"Moderately Severe\",\"Severe\"],autopct=absolute_num,startangle=0,pctdistance=0.85,explode=(0.05,0.05,0.05,0.05,0.05))\n",
    "\n",
    "centre_circle = plt.Circle((0,0),0.70,fc='white')\n",
    "fig = plt.gcf()\n",
    "fig.gca().add_artist(centre_circle)\n",
    "\n",
    "plt.title(\"Depression Severity in First Year Students Pie Plot \\n\\nTotal Valid First Year Respondents : \"+str(valid_participants))\n",
    "plt.show()"
   ]
  },
  {
   "cell_type": "code",
   "execution_count": null,
   "metadata": {},
   "outputs": [],
   "source": [
    "datafy=data[data[\"Which year BTech student are you ?\"]==\"Second Year\"][\"Depression Severity\"]\n",
    "\n",
    "fig = plt.figure(figsize =(10, 7)) \n",
    "\n",
    "valid_participants=len(datafy)\n",
    "\n",
    "plt.pie(datafy.value_counts(),labels=[\"None-minimal\",\"Mild\",\"Moderate\",\"Moderately Severe\",\"Severe\"],autopct=absolute_num,startangle=0,pctdistance=0.85,explode=(0.05,0.05,0.05,0.05,0.05))\n",
    "\n",
    "centre_circle = plt.Circle((0,0),0.70,fc='white')\n",
    "fig = plt.gcf()\n",
    "fig.gca().add_artist(centre_circle)\n",
    "\n",
    "plt.title(\"Depression Severity in Second Year Students Pie Plot \\n\\nTotal Valid Second Year Respondents : \"+str(valid_participants))\n",
    "plt.show()"
   ]
  },
  {
   "cell_type": "code",
   "execution_count": null,
   "metadata": {},
   "outputs": [],
   "source": [
    "datafy=data[data[\"Which year BTech student are you ?\"]==\"Third Year\"][\"Depression Severity\"]\n",
    "\n",
    "fig = plt.figure(figsize =(10, 7)) \n",
    "\n",
    "valid_participants=len(datafy)\n",
    "\n",
    "plt.pie(datafy.value_counts(),labels=[\"None-minimal\",\"Mild\",\"Moderate\",\"Severe\"],autopct=absolute_num,startangle=0,pctdistance=0.85,explode=(0.05,0.05,0.05,0.05))\n",
    "\n",
    "centre_circle = plt.Circle((0,0),0.70,fc='white')\n",
    "fig = plt.gcf()\n",
    "fig.gca().add_artist(centre_circle)\n",
    "\n",
    "plt.title(\"Depression Severity in Third Year Students Pie Plot \\n\\nTotal Valid Third Year Respondents : \"+str(valid_participants))\n",
    "plt.show()"
   ]
  },
  {
   "cell_type": "code",
   "execution_count": null,
   "metadata": {},
   "outputs": [],
   "source": [
    "datafy=data[data[\"Which year BTech student are you ?\"]==\"Fourth Year\"][\"Depression Severity\"]\n",
    "\n",
    "fig = plt.figure(figsize =(10, 7)) \n",
    "\n",
    "valid_participants=len(datafy)\n",
    "\n",
    "plt.pie(datafy.value_counts(),labels=[\"None-minimal\",\"Mild\",\"Moderate\"],autopct=absolute_num,startangle=0,pctdistance=0.85,explode=(0.05,0.05,0.05))\n",
    "\n",
    "centre_circle = plt.Circle((0,0),0.70,fc='white')\n",
    "fig = plt.gcf()\n",
    "fig.gca().add_artist(centre_circle)\n",
    "\n",
    "plt.title(\"Depression Severity in Fourth Year Students Pie Plot \\n\\nTotal Valid Fourth Year Respondents : \"+str(valid_participants))\n",
    "plt.show()"
   ]
  },
  {
   "cell_type": "code",
   "execution_count": null,
   "metadata": {},
   "outputs": [],
   "source": [
    "datafy=data[data[\"Which year BTech student are you ?\"]==\"First Year\"][\"Anxiety Severity\"]\n",
    "\n",
    "fig = plt.figure(figsize =(10, 7)) \n",
    "\n",
    "valid_participants=len(datafy)\n",
    "\n",
    "plt.pie(datafy.value_counts(),labels=[\"Minimal\",\"Mild\",\"Moderate\",\"Severe\"],autopct=absolute_num,pctdistance=0.85,explode=(0.05,0.05,0.05,0.05))\n",
    "\n",
    "centre_circle = plt.Circle((0,0),0.70,fc='white')\n",
    "fig = plt.gcf()\n",
    "fig.gca().add_artist(centre_circle)\n",
    "\n",
    "plt.title(\"Anxiety Severity in First Year Students Pie Plot \\n\\nTotal Valid First Year Respondents : \"+str(valid_participants))\n",
    "plt.show()"
   ]
  },
  {
   "cell_type": "code",
   "execution_count": null,
   "metadata": {},
   "outputs": [],
   "source": [
    "datafy=data[data[\"Which year BTech student are you ?\"]==\"Second Year\"][\"Anxiety Severity\"]\n",
    "\n",
    "fig = plt.figure(figsize =(10, 7)) \n",
    "\n",
    "valid_participants=len(datafy)\n",
    "\n",
    "plt.pie(datafy.value_counts(),labels=[\"Minimal\",\"Mild\",\"Moderate\",\"Severe\"],autopct=absolute_num,pctdistance=0.85,explode=(0.05,0.05,0.05,0.05))\n",
    "\n",
    "centre_circle = plt.Circle((0,0),0.70,fc='white')\n",
    "fig = plt.gcf()\n",
    "fig.gca().add_artist(centre_circle)\n",
    "\n",
    "plt.title(\"Anxiety Severity in Second Year Students Pie Plot \\n\\nTotal Valid Second Year Respondents : \"+str(valid_participants))\n",
    "plt.show()"
   ]
  },
  {
   "cell_type": "code",
   "execution_count": null,
   "metadata": {},
   "outputs": [],
   "source": [
    "datafy=data[data[\"Which year BTech student are you ?\"]==\"Third Year\"][\"Anxiety Severity\"]\n",
    "\n",
    "fig = plt.figure(figsize =(10, 7)) \n",
    "\n",
    "valid_participants=len(datafy)\n",
    "\n",
    "plt.pie(datafy.value_counts(),labels=[\"Minimal\",\"Mild\",\"Severe\"],autopct=absolute_num,pctdistance=0.85,explode=(0.05,0.05,0.05))\n",
    "\n",
    "centre_circle = plt.Circle((0,0),0.70,fc='white')\n",
    "fig = plt.gcf()\n",
    "fig.gca().add_artist(centre_circle)\n",
    "\n",
    "plt.title(\"Anxiety Severity in Third Year Students Pie Plot \\n\\nTotal Valid Third Year Respondents : \"+str(valid_participants))\n",
    "plt.show()"
   ]
  },
  {
   "cell_type": "code",
   "execution_count": null,
   "metadata": {},
   "outputs": [],
   "source": [
    "datafy=data[data[\"Which year BTech student are you ?\"]==\"Fourth Year\"][\"Anxiety Severity\"]\n",
    "\n",
    "fig = plt.figure(figsize =(10, 7)) \n",
    "\n",
    "valid_participants=len(datafy)\n",
    "\n",
    "plt.pie(datafy.value_counts(),labels=[\"Minimal\",\"Mild\"],autopct=absolute_num,pctdistance=0.85,explode=(0.05,0.05))\n",
    "\n",
    "centre_circle = plt.Circle((0,0),0.70,fc='white')\n",
    "fig = plt.gcf()\n",
    "fig.gca().add_artist(centre_circle)\n",
    "\n",
    "plt.title(\"Anxiety Severity in Fourth Year Students Pie Plot \\n\\nTotal Valid Fourth Year Respondents : \"+str(valid_participants))\n",
    "plt.show()"
   ]
  },
  {
   "cell_type": "code",
   "execution_count": null,
   "metadata": {},
   "outputs": [],
   "source": [
    "datafy=data[data[\"Which branch are you enrolled in ?\"]==\"Computer Science and Engineering\"][\"Depression Severity\"]\n",
    "\n",
    "fig = plt.figure(figsize =(10, 7)) \n",
    "\n",
    "valid_participants=len(datafy)\n",
    "\n",
    "plt.pie(datafy.value_counts(),labels=[\"None-minimal\",\"Mild\",\"Moderate\",\"Moderately Severe\",\"Severe\"],autopct=absolute_num,startangle=0,pctdistance=0.85,explode=(0.05,0.05,0.05,0.05,0.05))\n",
    "\n",
    "centre_circle = plt.Circle((0,0),0.70,fc='white')\n",
    "fig = plt.gcf()\n",
    "fig.gca().add_artist(centre_circle)\n",
    "\n",
    "plt.title(\"Depression Severity in CSE Branch Students Pie Plot \\n\\nTotal Valid CSE Branch Respondents : \"+str(valid_participants))\n",
    "plt.show()"
   ]
  },
  {
   "cell_type": "code",
   "execution_count": null,
   "metadata": {},
   "outputs": [],
   "source": [
    "datafy=data[data[\"Which branch are you enrolled in ?\"]==\"Electronics Communication and Engineering\"][\"Depression Severity\"]\n",
    "\n",
    "fig = plt.figure(figsize =(10, 7)) \n",
    "\n",
    "valid_participants=len(datafy)\n",
    "\n",
    "plt.pie(datafy.value_counts(),labels=[\"None-minimal\",\"Mild\",\"Moderate\",\"Moderately Severe\",\"Severe\"],autopct=absolute_num,startangle=0,pctdistance=0.85,explode=(0.05,0.05,0.05,0.05,0.05))\n",
    "\n",
    "centre_circle = plt.Circle((0,0),0.70,fc='white')\n",
    "fig = plt.gcf()\n",
    "fig.gca().add_artist(centre_circle)\n",
    "\n",
    "plt.title(\"Depression Severity in ECE Branch Students Pie Plot \\n\\nTotal Valid ECE Branch Respondents : \"+str(valid_participants))\n",
    "plt.show()"
   ]
  },
  {
   "cell_type": "code",
   "execution_count": null,
   "metadata": {},
   "outputs": [],
   "source": [
    "datafy=data[data[\"Which branch are you enrolled in ?\"]==\"Others\"][\"Depression Severity\"]\n",
    "\n",
    "fig = plt.figure(figsize =(10, 7)) \n",
    "\n",
    "valid_participants=len(datafy)\n",
    "\n",
    "plt.pie(datafy.value_counts(),labels=[\"None-minimal\",\"Mild\",\"Moderate\",\"Moderately Severe\",\"Severe\"],autopct=absolute_num,startangle=0,pctdistance=0.85,explode=(0.05,0.05,0.05,0.05,0.05))\n",
    "\n",
    "centre_circle = plt.Circle((0,0),0.70,fc='white')\n",
    "fig = plt.gcf()\n",
    "fig.gca().add_artist(centre_circle)\n",
    "\n",
    "plt.title(\"Depression Severity in Other Branch Students Pie Plot \\n\\nTotal Valid Other Branch Respondents : \"+str(valid_participants))\n",
    "plt.show()"
   ]
  },
  {
   "cell_type": "code",
   "execution_count": null,
   "metadata": {},
   "outputs": [],
   "source": [
    "datafy=data[data[\"Which branch are you enrolled in ?\"]==\"Computer Science and Engineering\"][\"Anxiety Severity\"]\n",
    "\n",
    "fig = plt.figure(figsize =(10, 7)) \n",
    "\n",
    "valid_participants=len(datafy)\n",
    "\n",
    "plt.pie(datafy.value_counts(),labels=[\"Minimal\",\"Mild\",\"Moderate\",\"Severe\"],autopct=absolute_num,pctdistance=0.85,explode=(0.05,0.05,0.05,0.05))\n",
    "\n",
    "centre_circle = plt.Circle((0,0),0.70,fc='white')\n",
    "fig = plt.gcf()\n",
    "fig.gca().add_artist(centre_circle)\n",
    "\n",
    "plt.title(\"Anxiety Severity in CSE Branch Students Pie Plot \\n\\nTotal Valid CSE Branch Respondents : \"+str(valid_participants))\n",
    "plt.show()"
   ]
  },
  {
   "cell_type": "code",
   "execution_count": null,
   "metadata": {},
   "outputs": [],
   "source": [
    "datafy=data[data[\"Which branch are you enrolled in ?\"]==\"Electronics Communication and Engineering\"][\"Anxiety Severity\"]\n",
    "\n",
    "fig = plt.figure(figsize =(10, 7)) \n",
    "\n",
    "valid_participants=len(datafy)\n",
    "\n",
    "plt.pie(datafy.value_counts(),labels=[\"Minimal\",\"Mild\",\"Moderate\",\"Severe\"],autopct=absolute_num,pctdistance=0.85,explode=(0.05,0.05,0.05,0.05))\n",
    "\n",
    "centre_circle = plt.Circle((0,0),0.70,fc='white')\n",
    "fig = plt.gcf()\n",
    "fig.gca().add_artist(centre_circle)\n",
    "\n",
    "plt.title(\"Anxiety Severity in ECE Branch Students Pie Plot \\n\\nTotal Valid ECE Branch Respondents : \"+str(valid_participants))\n",
    "plt.show()"
   ]
  },
  {
   "cell_type": "code",
   "execution_count": null,
   "metadata": {},
   "outputs": [],
   "source": [
    "datafy=data[data[\"Which branch are you enrolled in ?\"]==\"Others\"][\"Anxiety Severity\"]\n",
    "\n",
    "fig = plt.figure(figsize =(10, 7)) \n",
    "\n",
    "valid_participants=len(datafy)\n",
    "\n",
    "plt.pie(datafy.value_counts(),labels=[\"Minimal\",\"Mild\",\"Moderate\",\"Severe\"],autopct=absolute_num,pctdistance=0.85,explode=(0.05,0.05,0.05,0.05))\n",
    "\n",
    "centre_circle = plt.Circle((0,0),0.70,fc='white')\n",
    "fig = plt.gcf()\n",
    "fig.gca().add_artist(centre_circle)\n",
    "\n",
    "plt.title(\"Anxiety Severity in Other Branch Students Pie Plot \\n\\nTotal Valid Other Branch Respondents : \"+str(valid_participants))\n",
    "plt.show()"
   ]
  },
  {
   "cell_type": "code",
   "execution_count": null,
   "metadata": {},
   "outputs": [],
   "source": [
    "datafy=data[data[\"Do you live in a rented accommodation ?\"]==\"Yes\"][\"Depression Severity\"]\n",
    "\n",
    "fig = plt.figure(figsize =(10, 7)) \n",
    "\n",
    "valid_participants=len(datafy)\n",
    "\n",
    "plt.pie(datafy.value_counts(),labels=[\"None-minimal\",\"Mild\",\"Moderate\",\"Moderately Severe\",\"Severe\"],autopct=absolute_num,startangle=0,pctdistance=0.85,explode=(0.05,0.05,0.05,0.05,0.05))\n",
    "\n",
    "centre_circle = plt.Circle((0,0),0.70,fc='white')\n",
    "fig = plt.gcf()\n",
    "fig.gca().add_artist(centre_circle)\n",
    "\n",
    "plt.title(\"Depression Severity in people living in rented accomodations Pie Plot \\n\\nTotal Such Valid Respondents : \"+str(valid_participants))\n",
    "plt.show()"
   ]
  },
  {
   "cell_type": "code",
   "execution_count": null,
   "metadata": {},
   "outputs": [],
   "source": [
    "datafy=data[data[\"Do you live in a rented accommodation ?\"]==\"No\"][\"Depression Severity\"]\n",
    "\n",
    "fig = plt.figure(figsize =(10, 7)) \n",
    "\n",
    "valid_participants=len(datafy)\n",
    "\n",
    "plt.pie(datafy.value_counts(),labels=[\"None-minimal\",\"Mild\",\"Moderate\",\"Moderately Severe\",\"Severe\"],autopct=absolute_num,startangle=0,pctdistance=0.85,explode=(0.05,0.05,0.05,0.05,0.05))\n",
    "\n",
    "centre_circle = plt.Circle((0,0),0.70,fc='white')\n",
    "fig = plt.gcf()\n",
    "fig.gca().add_artist(centre_circle)\n",
    "\n",
    "plt.title(\"Depression Severity in people not living in rented accomodations Pie Plot \\n\\nTotal Such Valid Respondents : \"+str(valid_participants))\n",
    "plt.show()"
   ]
  },
  {
   "cell_type": "code",
   "execution_count": null,
   "metadata": {},
   "outputs": [],
   "source": [
    "datafy=data[data[\"Do you live in a rented accommodation ?\"]==\"Yes\"][\"Anxiety Severity\"]\n",
    "\n",
    "fig = plt.figure(figsize =(10, 7)) \n",
    "\n",
    "valid_participants=len(datafy)\n",
    "\n",
    "plt.pie(datafy.value_counts(),labels=[\"Minimal\",\"Mild\",\"Moderate\",\"Severe\"],autopct=absolute_num,pctdistance=0.85,explode=(0.05,0.05,0.05,0.05))\n",
    "\n",
    "centre_circle = plt.Circle((0,0),0.70,fc='white')\n",
    "fig = plt.gcf()\n",
    "fig.gca().add_artist(centre_circle)\n",
    "\n",
    "plt.title(\"Anxiety Severity in people living in rented accomodations Pie Plot \\n\\nTotal Such Valid Respondents : \"+str(valid_participants))\n",
    "plt.show()"
   ]
  },
  {
   "cell_type": "code",
   "execution_count": null,
   "metadata": {},
   "outputs": [],
   "source": [
    "datafy=data[data[\"Do you live in a rented accommodation ?\"]==\"No\"][\"Anxiety Severity\"]\n",
    "\n",
    "fig = plt.figure(figsize =(10, 7)) \n",
    "\n",
    "valid_participants=len(datafy)\n",
    "\n",
    "plt.pie(datafy.value_counts(),labels=[\"Minimal\",\"Mild\",\"Moderate\",\"Severe\"],autopct=absolute_num,pctdistance=0.85,explode=(0.05,0.05,0.05,0.05))\n",
    "\n",
    "centre_circle = plt.Circle((0,0),0.70,fc='white')\n",
    "fig = plt.gcf()\n",
    "fig.gca().add_artist(centre_circle)\n",
    "\n",
    "plt.title(\"Anxiety Severity in people not living in rented accomodations Pie Plot \\n\\nTotal Such Valid Respondents : \"+str(valid_participants))\n",
    "plt.show()"
   ]
  },
  {
   "cell_type": "code",
   "execution_count": null,
   "metadata": {},
   "outputs": [],
   "source": [
    "datafy=data[data[\"Do both of your parents work ?\"]==\"Yes\"][\"Depression Severity\"]\n",
    "\n",
    "fig = plt.figure(figsize =(10, 7)) \n",
    "\n",
    "valid_participants=len(datafy)\n",
    "\n",
    "plt.pie(datafy.value_counts(),labels=[\"None-minimal\",\"Mild\",\"Moderate\",\"Moderately Severe\",\"Severe\"],autopct=absolute_num,startangle=0,pctdistance=0.85,explode=(0.05,0.05,0.05,0.05,0.05))\n",
    "\n",
    "centre_circle = plt.Circle((0,0),0.70,fc='white')\n",
    "fig = plt.gcf()\n",
    "fig.gca().add_artist(centre_circle)\n",
    "\n",
    "plt.title(\"Depression Severity in people with both parents working Pie Plot \\n\\nTotal Such Valid Respondents : \"+str(valid_participants))\n",
    "plt.show()"
   ]
  },
  {
   "cell_type": "code",
   "execution_count": null,
   "metadata": {},
   "outputs": [],
   "source": [
    "datafy=data[data[\"Do both of your parents work ?\"]==\"No\"][\"Depression Severity\"]\n",
    "\n",
    "fig = plt.figure(figsize =(10, 7)) \n",
    "\n",
    "valid_participants=len(datafy)\n",
    "\n",
    "plt.pie(datafy.value_counts(),labels=[\"None-minimal\",\"Mild\",\"Moderate\",\"Moderately Severe\",\"Severe\"],autopct=absolute_num,startangle=0,pctdistance=0.85,explode=(0.05,0.05,0.05,0.05,0.05))\n",
    "\n",
    "centre_circle = plt.Circle((0,0),0.70,fc='white')\n",
    "fig = plt.gcf()\n",
    "fig.gca().add_artist(centre_circle)\n",
    "\n",
    "plt.title(\"Depression Severity in people with one or no parents working Pie Plot \\n\\nTotal Such Valid Respondents : \"+str(valid_participants))\n",
    "plt.show()"
   ]
  },
  {
   "cell_type": "code",
   "execution_count": null,
   "metadata": {},
   "outputs": [],
   "source": [
    "datafy=data[data[\"Do both of your parents work ?\"]==\"Yes\"][\"Anxiety Severity\"]\n",
    "\n",
    "fig = plt.figure(figsize =(10, 7)) \n",
    "\n",
    "valid_participants=len(datafy)\n",
    "\n",
    "plt.pie(datafy.value_counts(),labels=[\"Minimal\",\"Mild\",\"Moderate\",\"Severe\"],autopct=absolute_num,pctdistance=0.85,explode=(0.05,0.05,0.05,0.05))\n",
    "\n",
    "centre_circle = plt.Circle((0,0),0.70,fc='white')\n",
    "fig = plt.gcf()\n",
    "fig.gca().add_artist(centre_circle)\n",
    "\n",
    "plt.title(\"Anxiety Severity in people with both parents working Pie Plot \\n\\nTotal Such Valid Respondents : \"+str(valid_participants))\n",
    "plt.show()"
   ]
  },
  {
   "cell_type": "code",
   "execution_count": null,
   "metadata": {},
   "outputs": [],
   "source": [
    "datafy=data[data[\"Do both of your parents work ?\"]==\"No\"][\"Anxiety Severity\"]\n",
    "\n",
    "fig = plt.figure(figsize =(10, 7)) \n",
    "\n",
    "valid_participants=len(datafy)\n",
    "\n",
    "plt.pie(datafy.value_counts(),labels=[\"Minimal\",\"Mild\",\"Moderate\",\"Severe\"],autopct=absolute_num,pctdistance=0.85,explode=(0.05,0.05,0.05,0.05))\n",
    "\n",
    "centre_circle = plt.Circle((0,0),0.70,fc='white')\n",
    "fig = plt.gcf()\n",
    "fig.gca().add_artist(centre_circle)\n",
    "\n",
    "plt.title(\"Anxiety Severity in people with one or less parents working Pie Plot \\n\\nTotal Such Valid Respondents : \"+str(valid_participants))\n",
    "plt.show()"
   ]
  },
  {
   "cell_type": "code",
   "execution_count": null,
   "metadata": {},
   "outputs": [],
   "source": [
    "datafy=data[data[\"Have you ever been constantly bullied by someone ?\"]==\"Yes\"][\"Depression Severity\"]\n",
    "\n",
    "fig = plt.figure(figsize =(10, 7)) \n",
    "\n",
    "valid_participants=len(datafy)\n",
    "\n",
    "plt.pie(datafy.value_counts(),labels=[\"None-minimal\",\"Mild\",\"Moderate\",\"Moderately Severe\",\"Severe\"],autopct=absolute_num,startangle=0,pctdistance=0.85,explode=(0.05,0.05,0.05,0.05,0.05))\n",
    "\n",
    "centre_circle = plt.Circle((0,0),0.70,fc='white')\n",
    "fig = plt.gcf()\n",
    "fig.gca().add_artist(centre_circle)\n",
    "\n",
    "plt.title(\"Depression Severity in people who have been constantly bullied Pie Plot \\n\\nTotal Such Valid Respondents : \"+str(valid_participants))\n",
    "plt.show()"
   ]
  },
  {
   "cell_type": "code",
   "execution_count": null,
   "metadata": {},
   "outputs": [],
   "source": [
    "datafy=data[data[\"Have you ever been constantly bullied by someone ?\"]==\"No\"][\"Depression Severity\"]\n",
    "\n",
    "fig = plt.figure(figsize =(10, 7)) \n",
    "\n",
    "valid_participants=len(datafy)\n",
    "\n",
    "plt.pie(datafy.value_counts(),labels=[\"None-minimal\",\"Mild\",\"Moderate\",\"Moderately Severe\",\"Severe\"],autopct=absolute_num,startangle=0,pctdistance=0.85,explode=(0.05,0.05,0.05,0.05,0.05))\n",
    "\n",
    "centre_circle = plt.Circle((0,0),0.70,fc='white')\n",
    "fig = plt.gcf()\n",
    "fig.gca().add_artist(centre_circle)\n",
    "\n",
    "plt.title(\"Depression Severity in people who have not faced constant bullying Pie Plot \\n\\nTotal Such Valid Respondents : \"+str(valid_participants))\n",
    "plt.show()"
   ]
  },
  {
   "cell_type": "code",
   "execution_count": null,
   "metadata": {},
   "outputs": [],
   "source": [
    "datafy=data[data[\"Have you ever been constantly bullied by someone ?\"]==\"Yes\"][\"Anxiety Severity\"]\n",
    "\n",
    "fig = plt.figure(figsize =(10, 7)) \n",
    "\n",
    "valid_participants=len(datafy)\n",
    "\n",
    "plt.pie(datafy.value_counts(),labels=[\"Minimal\",\"Mild\",\"Moderate\",\"Severe\"],autopct=absolute_num,pctdistance=0.85,explode=(0.05,0.05,0.05,0.05))\n",
    "\n",
    "centre_circle = plt.Circle((0,0),0.70,fc='white')\n",
    "fig = plt.gcf()\n",
    "fig.gca().add_artist(centre_circle)\n",
    "\n",
    "plt.title(\"Anxiety Severity in people who have not faced constant bullying Pie Plot \\n\\nTotal Such Valid Respondents : \"+str(valid_participants))\n",
    "plt.show()"
   ]
  },
  {
   "cell_type": "code",
   "execution_count": null,
   "metadata": {},
   "outputs": [],
   "source": [
    "datafy=data[data[\"Have you ever been constantly bullied by someone ?\"]==\"No\"][\"Anxiety Severity\"]\n",
    "\n",
    "fig = plt.figure(figsize =(10, 7)) \n",
    "\n",
    "valid_participants=len(datafy)\n",
    "\n",
    "plt.pie(datafy.value_counts(),labels=[\"Minimal\",\"Mild\",\"Moderate\",\"Severe\"],autopct=absolute_num,pctdistance=0.85,explode=(0.05,0.05,0.05,0.05))\n",
    "\n",
    "centre_circle = plt.Circle((0,0),0.70,fc='white')\n",
    "fig = plt.gcf()\n",
    "fig.gca().add_artist(centre_circle)\n",
    "\n",
    "plt.title(\"Anxiety Severity in people who have not faced constant bullying Pie Plot \\n\\nTotal Such Valid Respondents : \"+str(valid_participants))\n",
    "plt.show()"
   ]
  },
  {
   "cell_type": "code",
   "execution_count": null,
   "metadata": {},
   "outputs": [],
   "source": [
    "ord_cols=[x for x in data.columns if data[x].dtypes==object ]"
   ]
  },
  {
   "cell_type": "code",
   "execution_count": null,
   "metadata": {},
   "outputs": [],
   "source": [
    "dh=data[ord_cols].replace({\"Yes\":1,\"No\":0,\"First Year\":1,\"Second Year\":2,\"Third Year\":3,\"Fourth Year\":4,\"Male\":1,\"Female\":0,\"BTech\":0,\"MTech\":1,\"Computer Science and Engineering\":0,\"Electronics Communication and Engineering\":1,\"Others\":2})"
   ]
  },
  {
   "cell_type": "code",
   "execution_count": null,
   "metadata": {},
   "outputs": [],
   "source": [
    "dh=dh.fillna(0)"
   ]
  },
  {
   "cell_type": "code",
   "execution_count": null,
   "metadata": {},
   "outputs": [],
   "source": [
    "dh[\"Which year since starting BTech ?\"]=dh[\"Which year MTech student are you?\"]+dh[\"Which year BTech student are you ?\"]"
   ]
  },
  {
   "cell_type": "code",
   "execution_count": null,
   "metadata": {},
   "outputs": [],
   "source": [
    "sf=[x for x in data.columns if x not in ord_cols]\n",
    "data=pd.concat([data[sf],dh],axis=1)"
   ]
  },
  {
   "cell_type": "code",
   "execution_count": null,
   "metadata": {},
   "outputs": [],
   "source": [
    "ord_cols=[x for x in data.columns if data[x].dtypes==object]"
   ]
  },
  {
   "cell_type": "code",
   "execution_count": null,
   "metadata": {},
   "outputs": [],
   "source": [
    "ordEnc=OrdinalEncoder()\n",
    "data_ord_enc=ordEnc.fit_transform(data[ord_cols])\n",
    "df=pd.DataFrame(data_ord_enc)\n",
    "df.columns=ord_cols\n",
    "ndata=pd.concat([data,df],axis=1)"
   ]
  },
  {
   "cell_type": "code",
   "execution_count": null,
   "metadata": {},
   "outputs": [],
   "source": [
    "cm=ndata.corr()\n",
    "acm=cm.copy()"
   ]
  },
  {
   "cell_type": "code",
   "execution_count": null,
   "metadata": {},
   "outputs": [],
   "source": [
    "cm[\"PHQ-9 Score\"].sort_values()[-10:]"
   ]
  },
  {
   "cell_type": "code",
   "execution_count": null,
   "metadata": {},
   "outputs": [],
   "source": [
    "cm[\"GAD-7 Score\"].sort_values()[-10:]"
   ]
  },
  {
   "cell_type": "code",
   "execution_count": null,
   "metadata": {},
   "outputs": [],
   "source": [
    "for x in cm:\n",
    "    for y in cm:\n",
    "        acm.at[x,y]=abs(cm.at[x,y])"
   ]
  },
  {
   "cell_type": "code",
   "execution_count": null,
   "metadata": {},
   "outputs": [],
   "source": [
    "acm[\"PHQ-9 Score\"].sort_values()[-9:]"
   ]
  },
  {
   "cell_type": "code",
   "execution_count": null,
   "metadata": {},
   "outputs": [],
   "source": [
    "acm[\"GAD-7 Score\"].sort_values()[-8:]"
   ]
  },
  {
   "cell_type": "code",
   "execution_count": null,
   "metadata": {},
   "outputs": [],
   "source": []
  }
 ]
}